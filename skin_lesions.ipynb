{
 "cells": [
  {
   "cell_type": "code",
   "execution_count": 1,
   "metadata": {},
   "outputs": [
    {
     "name": "stdout",
     "output_type": "stream",
     "text": [
      "cpu\n"
     ]
    }
   ],
   "source": [
    "import torch\n",
    "import torch.nn as nn\n",
    "import torch.nn.functional as F\n",
    "import torch.optim as optim\n",
    "import torchvision\n",
    "import torchvision.transforms as transforms\n",
    "import pandas as pd\n",
    "import matplotlib.pyplot as plt\n",
    "\n",
    "device = torch.device(\"cuda:0\" if torch.cuda.is_available() else \"cpu\")\n",
    "print(device)"
   ]
  },
  {
   "cell_type": "markdown",
   "metadata": {},
   "source": [
    "Link to the data:\n",
    "https://drive.google.com/file/d/1ITE-wx5pIenrk-c0v0ovUyu6-V1OOv26/view?usp=sharing\n",
    "\n",
    "*(this is a subset of \"skin-cancer-mnist-ham10000\")*"
   ]
  },
  {
   "cell_type": "code",
   "execution_count": 2,
   "metadata": {},
   "outputs": [
    {
     "data": {
      "text/html": [
       "<div>\n",
       "<style scoped>\n",
       "    .dataframe tbody tr th:only-of-type {\n",
       "        vertical-align: middle;\n",
       "    }\n",
       "\n",
       "    .dataframe tbody tr th {\n",
       "        vertical-align: top;\n",
       "    }\n",
       "\n",
       "    .dataframe thead th {\n",
       "        text-align: right;\n",
       "    }\n",
       "</style>\n",
       "<table border=\"1\" class=\"dataframe\">\n",
       "  <thead>\n",
       "    <tr style=\"text-align: right;\">\n",
       "      <th></th>\n",
       "      <th>lesion_id</th>\n",
       "      <th>image_id</th>\n",
       "      <th>dx</th>\n",
       "      <th>dx_type</th>\n",
       "      <th>age</th>\n",
       "      <th>sex</th>\n",
       "      <th>localization</th>\n",
       "      <th>dx_full</th>\n",
       "    </tr>\n",
       "  </thead>\n",
       "  <tbody>\n",
       "    <tr>\n",
       "      <th>0</th>\n",
       "      <td>HAM_0006518</td>\n",
       "      <td>ISIC_0027618</td>\n",
       "      <td>nv</td>\n",
       "      <td>follow_up</td>\n",
       "      <td>35.0</td>\n",
       "      <td>male</td>\n",
       "      <td>back</td>\n",
       "      <td>Melanocytic nevi</td>\n",
       "    </tr>\n",
       "    <tr>\n",
       "      <th>1</th>\n",
       "      <td>HAM_0004666</td>\n",
       "      <td>ISIC_0029165</td>\n",
       "      <td>nv</td>\n",
       "      <td>follow_up</td>\n",
       "      <td>55.0</td>\n",
       "      <td>male</td>\n",
       "      <td>upper extremity</td>\n",
       "      <td>Melanocytic nevi</td>\n",
       "    </tr>\n",
       "    <tr>\n",
       "      <th>2</th>\n",
       "      <td>HAM_0006455</td>\n",
       "      <td>ISIC_0029690</td>\n",
       "      <td>nv</td>\n",
       "      <td>follow_up</td>\n",
       "      <td>50.0</td>\n",
       "      <td>male</td>\n",
       "      <td>lower extremity</td>\n",
       "      <td>Melanocytic nevi</td>\n",
       "    </tr>\n",
       "    <tr>\n",
       "      <th>3</th>\n",
       "      <td>HAM_0003653</td>\n",
       "      <td>ISIC_0030139</td>\n",
       "      <td>nv</td>\n",
       "      <td>histo</td>\n",
       "      <td>45.0</td>\n",
       "      <td>male</td>\n",
       "      <td>back</td>\n",
       "      <td>Melanocytic nevi</td>\n",
       "    </tr>\n",
       "    <tr>\n",
       "      <th>4</th>\n",
       "      <td>HAM_0001330</td>\n",
       "      <td>ISIC_0026818</td>\n",
       "      <td>nv</td>\n",
       "      <td>histo</td>\n",
       "      <td>20.0</td>\n",
       "      <td>female</td>\n",
       "      <td>abdomen</td>\n",
       "      <td>Melanocytic nevi</td>\n",
       "    </tr>\n",
       "  </tbody>\n",
       "</table>\n",
       "</div>"
      ],
      "text/plain": [
       "     lesion_id      image_id  dx    dx_type   age     sex     localization  \\\n",
       "0  HAM_0006518  ISIC_0027618  nv  follow_up  35.0    male             back   \n",
       "1  HAM_0004666  ISIC_0029165  nv  follow_up  55.0    male  upper extremity   \n",
       "2  HAM_0006455  ISIC_0029690  nv  follow_up  50.0    male  lower extremity   \n",
       "3  HAM_0003653  ISIC_0030139  nv      histo  45.0    male             back   \n",
       "4  HAM_0001330  ISIC_0026818  nv      histo  20.0  female          abdomen   \n",
       "\n",
       "            dx_full  \n",
       "0  Melanocytic nevi  \n",
       "1  Melanocytic nevi  \n",
       "2  Melanocytic nevi  \n",
       "3  Melanocytic nevi  \n",
       "4  Melanocytic nevi  "
      ]
     },
     "execution_count": 2,
     "metadata": {},
     "output_type": "execute_result"
    }
   ],
   "source": [
    "df = pd.read_csv('data/HAM2000/metadata.csv')\n",
    "full_name = {\n",
    "    'bcc': 'Basal cell carcinoma',\n",
    "    'bkl': 'Benign keratosis-like lesions',\n",
    "    'mel': 'Melanoma',\n",
    "    'nv': 'Melanocytic nevi'\n",
    "}\n",
    "df['dx_full'] = df['dx'].map(full_name.get)\n",
    "df.head()"
   ]
  },
  {
   "cell_type": "code",
   "execution_count": 3,
   "metadata": {},
   "outputs": [],
   "source": [
    "transfo = transforms.Compose([\n",
    "    transforms.Resize((64,64)),\n",
    "    transforms.RandomHorizontalFlip(),\n",
    "    transforms.RandomVerticalFlip(),\n",
    "    transforms.ToTensor(),\n",
    "])\n",
    "dataset = torchvision.datasets.ImageFolder(root='data/HAM2000/', transform=transfo)\n",
    "dataset_loader = torch.utils.data.DataLoader(dataset, batch_size=64, shuffle=True, num_workers=1)\n",
    "class_names = [full_name[name] for name in dataset.find_classes('data/HAM2000/')[0]]"
   ]
  },
  {
   "cell_type": "code",
   "execution_count": 4,
   "metadata": {},
   "outputs": [
    {
     "data": {
      "image/png": "[encoded data removed]",
      "text/plain": [
       "<Figure size 640x480 with 1 Axes>"
      ]
     },
     "metadata": {},
     "output_type": "display_data"
    }
   ],
   "source": [
    "for image, label in dataset_loader:\n",
    "    plt.imshow(image[0].permute(1, 2, 0))\n",
    "    plt.title(class_names[label[0]])\n",
    "    plt.axis('off')\n",
    "    plt.show()\n",
    "    break"
   ]
  },
  {
   "cell_type": "code",
   "execution_count": 5,
   "metadata": {},
   "outputs": [],
   "source": [
    "# define a network for skin lesion classification\n",
    "class SkinNet(nn.Module):\n",
    "    def __init__(self, hidden_size1=512, hidden_size2=32):\n",
    "        super(SkinNet, self).__init__()\n",
    "        self.fc0 = nn.Linear(3*64*64, hidden_size1)\n",
    "        self.fc1 = nn.Linear(hidden_size1, hidden_size2)\n",
    "        self.fc2 = nn.Linear(hidden_size2, 4)\n",
    "        self.relu = nn.ReLU()\n",
    "        self.softmax = nn.Softmax(dim=1)\n",
    "        \n",
    "    def forward(self, x):\n",
    "        x = x.view(-1, 3*64*64)\n",
    "        x = self.relu(self.fc0(x))\n",
    "        x = self.relu(self.fc1(x))\n",
    "        x = self.softmax(self.fc2(x))\n",
    "        return x"
   ]
  }
 ],
 "metadata": {
  "kernelspec": {
   "display_name": "Python 3",
   "language": "python",
   "name": "python3"
  },
  "language_info": {
   "codemirror_mode": {
    "name": "ipython",
    "version": 3
   },
   "file_extension": ".py",
   "mimetype": "text/x-python",
   "name": "python",
   "nbconvert_exporter": "python",
   "pygments_lexer": "ipython3",
   "version": "3.11.4"
  },
  "orig_nbformat": 4
 },
 "nbformat": 4,
 "nbformat_minor": 2
}
