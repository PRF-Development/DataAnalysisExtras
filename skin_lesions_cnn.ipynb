{
 "cells": [
  {
   "cell_type": "code",
   "execution_count": null,
   "metadata": {},
   "outputs": [],
   "source": [
    "import torch\n",
    "import torch.nn as nn\n",
    "import torch.nn.functional as F\n",
    "import torch.optim as optim\n",
    "import torchvision\n",
    "import torchvision.transforms as transforms\n",
    "import pandas as pd\n",
    "import matplotlib.pyplot as plt\n",
    "\n",
    "torch.random.manual_seed(0)\n",
    "\n",
    "device = torch.device(\"cuda:0\" if torch.cuda.is_available() else \"cpu\")\n",
    "print(device)\n"
   ]
  },
  {
   "cell_type": "markdown",
   "metadata": {},
   "source": [
    "Link to the data:\n",
    "https://drive.google.com/file/d/1ITE-wx5pIenrk-c0v0ovUyu6-V1OOv26/view?usp=sharing\n",
    "\n",
    "_(this is a subset of \"skin-cancer-mnist-ham10000\")_\n"
   ]
  },
  {
   "cell_type": "code",
   "execution_count": null,
   "metadata": {},
   "outputs": [],
   "source": [
    "df = pd.read_csv(\"data/HAM2000/metadata.csv\")\n",
    "full_name = {\n",
    "    \"bcc\": \"Basal cell carcinoma\",\n",
    "    \"bkl\": \"Benign keratosis-like lesions\",\n",
    "    \"mel\": \"Melanoma\",\n",
    "    \"nv\": \"Melanocytic nevi\",\n",
    "}\n",
    "df[\"dx_full\"] = df[\"dx\"].map(full_name.get)\n",
    "df.head()\n"
   ]
  },
  {
   "cell_type": "code",
   "execution_count": null,
   "metadata": {},
   "outputs": [],
   "source": [
    "transfo = transforms.Compose(\n",
    "    [\n",
    "        transforms.Resize((64, 64)),\n",
    "        transforms.RandomHorizontalFlip(),\n",
    "        transforms.RandomVerticalFlip(),\n",
    "        transforms.ToTensor(),\n",
    "    ]\n",
    ")\n",
    "dataset = torchvision.datasets.ImageFolder(root=\"data/HAM2000/\", transform=transfo)\n",
    "class_names = [full_name[name] for name in dataset.find_classes(\"data/HAM2000/\")[0]]\n"
   ]
  },
  {
   "cell_type": "code",
   "execution_count": null,
   "metadata": {},
   "outputs": [],
   "source": [
    "train_size = int(0.8 * len(dataset))\n",
    "test_size = len(dataset) - train_size\n",
    "train_dataset, test_dataset = torch.utils.data.random_split(\n",
    "    dataset, [train_size, test_size]\n",
    ")\n",
    "train_loader = torch.utils.data.DataLoader(train_dataset, batch_size=64, shuffle=True)\n",
    "test_loader = torch.utils.data.DataLoader(test_dataset, batch_size=64)\n"
   ]
  },
  {
   "cell_type": "code",
   "execution_count": null,
   "metadata": {},
   "outputs": [],
   "source": [
    "image, label = dataset[0]\n",
    "plt.imshow(image.permute(1, 2, 0))\n",
    "plt.title(class_names[label])\n",
    "plt.axis(\"off\")\n",
    "plt.show()\n"
   ]
  },
  {
   "cell_type": "code",
   "execution_count": null,
   "metadata": {},
   "outputs": [],
   "source": [
    "class SkinNet(nn.Module):\n",
    "    def __init__(self, hidden_size=64):\n",
    "        super(SkinNet, self).__init__()\n",
    "        self.conv1 = nn.Conv2d(3, 8, 5, stride=2)\n",
    "        self.conv2 = nn.Conv2d(8, 16, 5, stride=1)\n",
    "        self.conv3 = nn.Conv2d(16, 32, 5, stride=1)\n",
    "        self.conv4 = nn.Conv2d(32, 32, 5, stride=1)\n",
    "        self.conv5 = nn.Conv2d(32, 32, 5, stride=1)\n",
    "        self.fc1 = nn.Linear(14 * 14 * 32, hidden_size)\n",
    "        self.fc2 = nn.Linear(hidden_size, 4)\n",
    "        self.relu = nn.ReLU()\n",
    "        self.softmax = nn.Softmax(dim=1)\n",
    "\n",
    "    def forward(self, x):\n",
    "        x = self.relu(self.conv1(x))\n",
    "        x = self.relu(self.conv2(x))\n",
    "        x = self.relu(self.conv3(x))\n",
    "        x = self.relu(self.conv4(x))\n",
    "        x = self.relu(self.conv5(x))\n",
    "        # print(x.shape)\n",
    "        x = x.view(-1, 14 * 14 * 32)\n",
    "        x = self.relu(self.fc1(x))\n",
    "        x = self.softmax(self.fc2(x))\n",
    "        return x\n"
   ]
  },
  {
   "cell_type": "code",
   "execution_count": null,
   "metadata": {},
   "outputs": [],
   "source": [
    "model = SkinNet()\n",
    "model.to(device)\n",
    "\n",
    "optimizer = optim.Adam(model.parameters(), lr=0.0001)\n",
    "criterion = nn.CrossEntropyLoss()\n",
    "\n",
    "num_epochs = 20\n",
    "losses = []\n",
    "accuracies = [0.25]"
   ]
  },
  {
   "cell_type": "code",
   "execution_count": null,
   "metadata": {},
   "outputs": [],
   "source": [
    "for epoch in range(1, num_epochs + 1):\n",
    "    running_loss = 0.0\n",
    "    correct_count = 0\n",
    "    for images, labels in train_loader:\n",
    "        images = images.to(device)\n",
    "        labels = labels.to(device)\n",
    "        hot_outputs = model(images)\n",
    "        outputs = hot_outputs.argmax(axis=1)\n",
    "        correct_count += (outputs == labels).sum().item()\n",
    "        loss = criterion(hot_outputs, labels)\n",
    "        loss.backward()\n",
    "        losses.append(loss.item())\n",
    "        running_loss += loss.item()\n",
    "        optimizer.step()\n",
    "        optimizer.zero_grad()\n",
    "    accuracy = correct_count/train_size\n",
    "    accuracies.append(accuracy)\n",
    "    print(f\"Epoch [{epoch}/{num_epochs}] Loss: {running_loss:.6f} Accuracy: {accuracy*100:.2f}%\")\n"
   ]
  },
  {
   "cell_type": "code",
   "execution_count": null,
   "metadata": {},
   "outputs": [],
   "source": [
    "plt.semilogy(losses)\n",
    "plt.xlabel(\"Epoch\")\n",
    "plt.ylabel(\"Loss\")\n",
    "plt.show()\n"
   ]
  },
  {
   "cell_type": "code",
   "execution_count": null,
   "metadata": {},
   "outputs": [],
   "source": [
    "small_class_names = dataset.find_classes(\"data/HAM2000/\")[0]\n",
    "for images, labels in dataset_loader:\n",
    "    predictions = model(images)\n",
    "    for i in range(9):\n",
    "        ax = plt.subplot(3, 3, i + 1)\n",
    "        ax.imshow(images[i].numpy().swapaxes(0, 2).swapaxes(0, 1))\n",
    "        pred_class = small_class_names[torch.argmax(predictions[i])]\n",
    "        real_class = small_class_names[labels[i]]\n",
    "        ax.set_title(f\"{pred_class} - {real_class}\")\n",
    "        plt.axis(\"off\")\n",
    "    plt.suptitle(\"predicted - real\")\n",
    "    plt.show()\n",
    "    break\n"
   ]
  },
  {
   "cell_type": "code",
   "execution_count": null,
   "metadata": {},
   "outputs": [],
   "source": [
    "correct = 0\n",
    "total = 0\n",
    "for images, labels in test_loader:\n",
    "    predictions = model(images)\n",
    "    total += labels.size(0)\n",
    "    correct += (torch.argmax(predictions, dim=1) == labels).sum().item()\n",
    "\n",
    "print(f\"Accuracy: {100*correct/total:.2f} %\")\n"
   ]
  }
 ],
 "metadata": {
  "kernelspec": {
   "display_name": "Python 3",
   "language": "python",
   "name": "python3"
  },
  "language_info": {
   "codemirror_mode": {
    "name": "ipython",
    "version": 3
   },
   "file_extension": ".py",
   "mimetype": "text/x-python",
   "name": "python",
   "nbconvert_exporter": "python",
   "pygments_lexer": "ipython3",
   "version": "3.11.4"
  },
  "orig_nbformat": 4
 },
 "nbformat": 4,
 "nbformat_minor": 2
}
