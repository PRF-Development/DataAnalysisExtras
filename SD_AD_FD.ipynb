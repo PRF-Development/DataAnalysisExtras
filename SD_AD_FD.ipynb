{
 "cells": [
  {
   "attachments": {},
   "cell_type": "markdown",
   "metadata": {},
   "source": [
    "# Symbolic Differentiation (SD)\n",
    "### v.s.\n",
    "# Automatic Differentiation (AD)\n",
    "### v.s.\n",
    "# Finite Differences (FD)"
   ]
  },
  {
   "attachments": {},
   "cell_type": "markdown",
   "metadata": {},
   "source": [
    "Automatic Differentiation, Symbolic Differentiation, and Finite Differences are three different approaches used in the field of computational mathematics and computer science for calculating derivatives of mathematical functions.\n",
    "Each approach has its own advantages and disadvantages, and they are used in different contexts depending on the specific requirements of a problem."
   ]
  }
 ],
 "metadata": {
  "language_info": {
   "name": "python"
  },
  "orig_nbformat": 4
 },
 "nbformat": 4,
 "nbformat_minor": 2
}
