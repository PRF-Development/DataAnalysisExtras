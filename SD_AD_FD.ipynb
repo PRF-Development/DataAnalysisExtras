{
 "cells": [
  {
   "attachments": {},
   "cell_type": "markdown",
   "metadata": {},
   "source": [
    "# Symbolic Differentiation (SD)\n",
    "### v.s.\n",
    "# Automatic Differentiation (AD)\n",
    "### v.s.\n",
    "# Finite Differences (FD)"
   ]
  },
  {
   "attachments": {},
   "cell_type": "markdown",
   "metadata": {},
   "source": [
    "Automatic Differentiation, Symbolic Differentiation, and Finite Differences are three different approaches used in the field of computational mathematics and computer science for calculating derivatives of mathematical functions.\n",
    "Each approach has its own advantages and disadvantages, and they are used in different contexts depending on the specific requirements of a problem."
   ]
  },
  {
   "attachments": {},
   "cell_type": "markdown",
   "metadata": {},
   "source": [
    "1. **Symbolic Differentiation**\n",
    "\n",
    "Symbolic Differentiation involves manipulating mathematical expressions symbolically to obtain their derivatives.\n",
    "Instead of numerical values, it works with algebraic expressions. Symbolic differentiation provides exact derivatives as symbolic expressions.\n",
    "\n",
    "For example, if you have an algebraic expression like $f(x) = x^2 + 3x + 5$, symbolic differentiation will yield $f'(x) = 2x + 3$.\n",
    "\n",
    "Advantages of symbolic differentiation include precision and exactness, which is crucial in certain mathematical and scientific computations.\n",
    "However, it can be computationally expensive and may lead to complex expressions, especially for functions with many variables or intricate forms."
   ]
  },
  {
   "attachments": {},
   "cell_type": "markdown",
   "metadata": {},
   "source": [
    "2. **Automatic Differentiation (AutoDiff)**\n",
    "\n",
    "Automatic Differentiation, also known as autodiff or AD, is a computational technique for efficiently and accurately computing derivatives of functions.\n",
    "It is particularly useful for functions that are defined by computer programs or algorithms.\n",
    "AutoDiff is based on the chain rule from calculus.\n",
    "\n",
    "There are two main modes of AutoDiff:\n",
    "\n",
    "- *Forward-mode AutoDiff:* This method computes the derivative of a function with respect to one input variable at a time. It is efficient when the number of input variables is relatively small compared to the number of functions to be evaluated.\n",
    "- *Reverse-mode AutoDiff (Backpropagation):* This method computes the derivatives of all output variables with respect to a single input variable simultaneously. It is particularly efficient when the number of output variables is much larger than the number of input variables, which is common in machine learning and neural network training.\n",
    "\n",
    "AutoDiff is widely used in optimization problems and machine learning, where gradients (derivatives) are essential for training algorithms like gradient descent."
   ]
  },
  {
   "attachments": {},
   "cell_type": "markdown",
   "metadata": {},
   "source": [
    "3. **Finite Differences**\n",
    "\n",
    "Finite Differences is a numerical method for approximating derivatives by using the values of a function at discrete points.\n",
    "It is a simple and intuitive approach but is generally less accurate than AutoDiff or Symbolic Differentiation.\n",
    "\n",
    "The basic idea is to calculate the derivative by dividing the change in the function's value ($\\delta y$) by the change in the input variable ($\\delta x$).\n",
    "There are several finite difference schemes, including forward differences, backward differences, and central differences, depending on how the neighboring points are chosen.\n",
    "\n",
    "For example, the forward difference approximation for the derivative of a function *f(x)* at a point $x$ is given by:\n",
    "\n",
    "$$f'(x) \\approx \\frac{f(x + \\delta x) - f(x)}{\\delta x}$$\n",
    "\n",
    "Finite Differences are straightforward to implement and can be used when you have access to the function's values but not its analytical expression.\n",
    "They are commonly used in numerical analysis and scientific computing for problems where symbolic differentiation is impractical or too costly.\n",
    "It is also used when the function of interest is a \"black box\"."
   ]
  },
  {
   "attachments": {},
   "cell_type": "markdown",
   "metadata": {},
   "source": [
    "---"
   ]
  },
  {
   "attachments": {},
   "cell_type": "markdown",
   "metadata": {},
   "source": [
    "Let's use the function $f(x) = 3*(2x+1)^2$ as an example for each technique in Python."
   ]
  },
  {
   "attachments": {},
   "cell_type": "markdown",
   "metadata": {},
   "source": [
    "1. For symbolic differentiation, you can use a symbolic math library like `SymPy`:"
   ]
  },
  {
   "cell_type": "code",
   "execution_count": 1,
   "metadata": {},
   "outputs": [
    {
     "name": "stdout",
     "output_type": "stream",
     "text": [
      "Derivative using Symbolic Differentiation: 24*x + 12\n"
     ]
    }
   ],
   "source": [
    "import sympy as sp\n",
    "\n",
    "# Define the symbolic variable and function\n",
    "x = sp.symbols('x')\n",
    "f = 3 * (2 * x + 1)**2\n",
    "\n",
    "# Compute the derivative symbolically\n",
    "derivative_symbolic = sp.diff(f, x)\n",
    "\n",
    "print(\"Derivative using Symbolic Differentiation:\", derivative_symbolic)"
   ]
  },
  {
   "cell_type": "markdown",
   "metadata": {},
   "source": [
    "2. For AutoDiff in Python, you can use libraries like `TensorFlow` or `PyTorch`.\n",
    "Here's an example using `PyTorch` (we will use `PyTorch` in this course):"
   ]
  },
  {
   "cell_type": "code",
   "execution_count": 2,
   "metadata": {},
   "outputs": [
    {
     "name": "stdout",
     "output_type": "stream",
     "text": [
      "Derivative using AutoDiff: 60.0\n"
     ]
    }
   ],
   "source": [
    "import torch\n",
    "\n",
    "# Define the input variable and function\n",
    "x = torch.tensor([2.0], requires_grad=True)\n",
    "f = 3 * (2 * x + 1)**2\n",
    "\n",
    "# Compute the derivative using AutoDiff\n",
    "f.backward()\n",
    "\n",
    "# The derivative is stored in x.grad\n",
    "derivative_auto_diff = x.grad.item()\n",
    "\n",
    "print(\"Derivative using AutoDiff:\", derivative_auto_diff)\n"
   ]
  }
 ],
 "metadata": {
  "kernelspec": {
   "display_name": "Python 3",
   "language": "python",
   "name": "python3"
  },
  "language_info": {
   "codemirror_mode": {
    "name": "ipython",
    "version": 3
   },
   "file_extension": ".py",
   "mimetype": "text/x-python",
   "name": "python",
   "nbconvert_exporter": "python",
   "pygments_lexer": "ipython3",
   "version": "3.11.4"
  },
  "orig_nbformat": 4
 },
 "nbformat": 4,
 "nbformat_minor": 2
}
