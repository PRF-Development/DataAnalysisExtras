{
 "cells": [
  {
   "cell_type": "markdown",
   "metadata": {},
   "source": [
    "# Batch size, Optimizers, Loss"
   ]
  },
  {
   "cell_type": "markdown",
   "metadata": {},
   "source": [
    "We will study the behaviour of batch size, optimizers, and loss on a linear regression, as it makes the parameters easy to visualize."
   ]
  },
  {
   "cell_type": "markdown",
   "metadata": {},
   "source": [
    "---"
   ]
  },
  {
   "cell_type": "code",
   "execution_count": null,
   "metadata": {},
   "outputs": [],
   "source": [
    "import torch\n",
    "import torch.nn as nn\n",
    "import torch.optim as optim\n",
    "from torch.utils.data import Dataset, DataLoader, TensorDataset\n",
    "import numpy as np\n",
    "import matplotlib.pyplot as plt\n",
    "import time\n",
    "\n",
    "device = torch.device('cuda' if torch.cuda.is_available() else 'cpu')\n",
    "print(device)"
   ]
  },
  {
   "cell_type": "markdown",
   "metadata": {},
   "source": [
    "## Fake data & basic linear regression"
   ]
  },
  {
   "cell_type": "markdown",
   "metadata": {},
   "source": [
    "We create some random points roughly aligned, so we can perform a linear regression."
   ]
  },
  {
   "cell_type": "code",
   "execution_count": null,
   "metadata": {},
   "outputs": [],
   "source": [
    "np.random.seed(0)\n",
    "\n",
    "XS = np.random.rand(100, 1)\n",
    "YS = 1 + 2 * XS + .1 * np.random.randn(100, 1)\n",
    "\n",
    "plt.scatter(XS, YS)\n",
    "plt.xlabel(\"$x$\")\n",
    "plt.ylabel(\"$y$\")\n",
    "plt.show()"
   ]
  },
  {
   "cell_type": "markdown",
   "metadata": {},
   "source": [
    "A linear regression is a simple model, where $y_{pred} = a*x+b$.\n",
    "The loss (function we try to minimize) is usually the mean squared error $\\mathcal{L}(a,b) = \\sum_{i=1}^N ({y_{pred}}_i-y_i)^2 = \\sum_{i=1}^N ((ax_i+b)-y_i)^2$."
   ]
  },
  {
   "cell_type": "markdown",
   "metadata": {},
   "source": [
    "Let's define a function that calculates the loss for $a \\in \\left[0,2\\right]$ and $b \\in \\left[-1,3\\right]$ (with a grid of $100 \\times 100$ points), and plot the loss."
   ]
  },
  {
   "cell_type": "code",
   "execution_count": null,
   "metadata": {},
   "outputs": [],
   "source": [
    "def loss_map(xs, ys, pow_err=2):\n",
    "    aa = np.linspace(0,4, 100)\n",
    "    bb = np.linspace(-1,3, 100)\n",
    "    A, B = np.meshgrid(aa, bb)\n",
    "    L = np.zeros((100,100))\n",
    "    for i in range(100):\n",
    "        for j in range(100):\n",
    "            a = A[i,j]\n",
    "            b = B[i,j]\n",
    "            yhat = a*xs + b\n",
    "            L[i,j] = np.log(np.mean(np.abs(ys-yhat)**pow_err))\n",
    "    return L\n",
    "\n",
    "L = loss_map(XS, YS)\n",
    "plt.imshow(L, extent=[0, 4, -1, 3])\n",
    "plt.xlabel('a')\n",
    "plt.ylabel('b')\n",
    "plt.show()"
   ]
  }
 ],
 "metadata": {
  "language_info": {
   "name": "python"
  },
  "orig_nbformat": 4
 },
 "nbformat": 4,
 "nbformat_minor": 2
}
